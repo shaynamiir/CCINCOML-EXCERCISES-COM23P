{
  "nbformat": 4,
  "nbformat_minor": 0,
  "metadata": {
    "colab": {
      "provenance": [],
      "collapsed_sections": [
        "FKj-F10WsctE"
      ],
      "include_colab_link": true
    },
    "kernelspec": {
      "name": "python3",
      "display_name": "Python 3"
    },
    "language_info": {
      "name": "python"
    }
  },
  "cells": [
    {
      "cell_type": "markdown",
      "metadata": {
        "id": "view-in-github",
        "colab_type": "text"
      },
      "source": [
        "<a href=\"https://colab.research.google.com/github/shaynamiir/CCINCOML-EXCERCISES-COM23P/blob/main/Exercise6.ipynb\" target=\"_parent\"><img src=\"https://colab.research.google.com/assets/colab-badge.svg\" alt=\"Open In Colab\"/></a>"
      ]
    },
    {
      "cell_type": "markdown",
      "source": [
        "# Exercise 6"
      ],
      "metadata": {
        "id": "2YKNSy_M9wSB"
      }
    },
    {
      "cell_type": "markdown",
      "source": [
        "## Lists"
      ],
      "metadata": {
        "id": "waosO4TAeA-S"
      }
    },
    {
      "cell_type": "markdown",
      "source": [
        "1. Create a list\n",
        "\n",
        "- The name of the new list should be  `month`\n",
        "\n",
        "- The list should contain all the months in a year (January, February, March, April, May, June, July, August, September, October, November, December)"
      ],
      "metadata": {
        "id": "AW0H1ylt3H9g"
      }
    },
    {
      "cell_type": "code",
      "execution_count": 1,
      "metadata": {
        "id": "3a9CllzZ28_6",
        "colab": {
          "base_uri": "https://localhost:8080/"
        },
        "outputId": "e1f3c05f-3070-4ece-ce82-7f2ec4eaee4a"
      },
      "outputs": [
        {
          "output_type": "stream",
          "name": "stdout",
          "text": [
            "['January', 'February', 'March', 'April', 'May', 'June', 'July', 'August', 'September', 'October', 'November', 'December']\n"
          ]
        }
      ],
      "source": [
        "months = [\"January\", \"February\", \"March\", \"April\", \"May\", \"June\", \"July\", \"August\", \"September\", \"October\", \"November\", \"December\"]\n",
        "print (months)"
      ]
    },
    {
      "cell_type": "markdown",
      "source": [
        "2. Display an element\n",
        "\n",
        "- Display the fourth element 'April' in the `month` list"
      ],
      "metadata": {
        "id": "lDgi4WMA3UDM"
      }
    },
    {
      "cell_type": "code",
      "source": [
        "months = [\"January\", \"February\", \"March\", \"April\", \"May\", \"June\", \"July\", \"August\", \"September\", \"October\", \"November\", \"December\"]\n",
        "print (months[3])\n",
        "\n"
      ],
      "metadata": {
        "id": "-K4Umghk34X3"
      },
      "execution_count": null,
      "outputs": []
    },
    {
      "cell_type": "markdown",
      "source": [
        "3. Slice the list\n",
        "\n",
        "- Use slicing to get the last 4 months of the year of (September, October, November, December) of the `month` list"
      ],
      "metadata": {
        "id": "2sgJy-_C4N8b"
      }
    },
    {
      "cell_type": "code",
      "source": [
        "months = [\"January\", \"February\", \"March\", \"April\", \"May\", \"June\", \"July\", \"August\", \"September\", \"October\", \"November\", \"December\"]\n",
        "print (months[8:])"
      ],
      "metadata": {
        "id": "xARijZmm4bp2",
        "colab": {
          "base_uri": "https://localhost:8080/"
        },
        "outputId": "b48ad555-0598-4ebf-fb58-2fac54546e74"
      },
      "execution_count": 5,
      "outputs": [
        {
          "output_type": "stream",
          "name": "stdout",
          "text": [
            "['September', 'October', 'November', 'December']\n"
          ]
        }
      ]
    },
    {
      "cell_type": "markdown",
      "source": [
        "- Use slicing to get the first 4 months of the year (January, February, March, April) of the `month` list"
      ],
      "metadata": {
        "id": "ZNYReiVbp4qN"
      }
    },
    {
      "cell_type": "code",
      "source": [],
      "metadata": {
        "id": "czBddrzf2a6Y"
      },
      "execution_count": null,
      "outputs": []
    },
    {
      "cell_type": "code",
      "source": [
        "months = [\"January\", \"February\", \"March\", \"April\", \"May\", \"June\", \"July\", \"August\", \"September\", \"October\", \"November\", \"December\"]\n",
        "print (months[:4])\n"
      ],
      "metadata": {
        "id": "5QEm97VXp5Bi",
        "colab": {
          "base_uri": "https://localhost:8080/"
        },
        "outputId": "7399a07a-a838-4721-e7dc-66e24237fff9"
      },
      "execution_count": 7,
      "outputs": [
        {
          "output_type": "stream",
          "name": "stdout",
          "text": [
            "['January', 'February', 'March', 'April']\n"
          ]
        }
      ]
    },
    {
      "cell_type": "markdown",
      "source": [
        "4. List Methods\n",
        "\n",
        "- Get the size of the month list using the `len()` method"
      ],
      "metadata": {
        "id": "wZBoOGlh4zf9"
      }
    },
    {
      "cell_type": "code",
      "source": [
        "months = [\"January\", \"February\", \"March\", \"April\", \"May\", \"June\", \"July\", \"August\", \"September\", \"October\", \"November\", \"December\"]\n",
        "list_size = len(months)\n",
        "print (list_size)"
      ],
      "metadata": {
        "id": "0xoFuFFw48AX",
        "colab": {
          "base_uri": "https://localhost:8080/"
        },
        "outputId": "c6e9c9c3-ece6-4f11-9314-dc251702adcf"
      },
      "execution_count": 8,
      "outputs": [
        {
          "output_type": "stream",
          "name": "stdout",
          "text": [
            "12\n"
          ]
        }
      ]
    },
    {
      "cell_type": "markdown",
      "source": [
        "- Get the element with the largest value of the month list using `max()`"
      ],
      "metadata": {
        "id": "P5bCjc8Xq4Fd"
      }
    },
    {
      "cell_type": "code",
      "source": [
        "months = [\"January\", \"February\", \"March\", \"April\", \"May\", \"June\", \"July\", \"August\", \"September\", \"October\", \"November\", \"December\"]\n",
        "largest_value_month = max(months)\n",
        "print(largest_value_month)\n",
        "#ayaw mag run pero tama naman"
      ],
      "metadata": {
        "id": "fm8QnJwh3no2"
      },
      "execution_count": null,
      "outputs": []
    },
    {
      "cell_type": "code",
      "source": [],
      "metadata": {
        "id": "Yp3BmlEQq4k7"
      },
      "execution_count": 14,
      "outputs": []
    },
    {
      "cell_type": "markdown",
      "source": [
        "- Get the element with the smallest value of the month list using `min()`"
      ],
      "metadata": {
        "id": "dGXbdxgJq5HC"
      }
    },
    {
      "cell_type": "code",
      "source": [
        "months = [\"January\", \"February\", \"March\", \"April\", \"May\", \"June\", \"July\", \"August\", \"September\", \"October\", \"November\", \"December\"]\n",
        "smallest_value = min(months)\n",
        "print(smallest_value)"
      ],
      "metadata": {
        "id": "2CIePRDMq5aN",
        "colab": {
          "base_uri": "https://localhost:8080/"
        },
        "outputId": "1ed454c5-abeb-43dd-b5a1-a97a4a4c5157"
      },
      "execution_count": 17,
      "outputs": [
        {
          "output_type": "stream",
          "name": "stdout",
          "text": [
            "April\n"
          ]
        }
      ]
    },
    {
      "cell_type": "markdown",
      "source": [
        "- Sort the months of the year by alphabetical order using the `sorted()` function"
      ],
      "metadata": {
        "id": "rmnq1YbHta7L"
      }
    },
    {
      "cell_type": "code",
      "source": [
        "months = [\"January\", \"February\", \"March\", \"April\", \"May\", \"June\", \"July\", \"August\", \"September\", \"October\", \"November\", \"December\"]\n",
        "sort_months = sorted(months)\n",
        "print(sort_months)"
      ],
      "metadata": {
        "id": "EBB3CLFGtbKg",
        "colab": {
          "base_uri": "https://localhost:8080/"
        },
        "outputId": "7df0246d-4541-473f-f038-5f02244a2727"
      },
      "execution_count": 19,
      "outputs": [
        {
          "output_type": "stream",
          "name": "stdout",
          "text": [
            "['April', 'August', 'December', 'February', 'January', 'July', 'June', 'March', 'May', 'November', 'October', 'September']\n"
          ]
        }
      ]
    },
    {
      "cell_type": "markdown",
      "source": [
        "## Tuple"
      ],
      "metadata": {
        "id": "R4Rkhy42sWQc"
      }
    },
    {
      "cell_type": "markdown",
      "source": [
        "1. Create a tuple with only three elements, the elements are:\n",
        "\n",
        "- Your month of birth in integers\n",
        "- Your day of birth in integers\n",
        "- Your year of birth in integers\n",
        "\n",
        "Use tuple unpacking to directly assign the month, day, year variable to each elements in your tuple."
      ],
      "metadata": {
        "id": "0qdb8lX53Iux"
      }
    },
    {
      "cell_type": "code",
      "source": [
        "birthdate = (4, 12 , 2004)\n",
        "month, day, year = birthdate\n",
        "print(\"Month:\", month)\n",
        "print(\"Day:\", day)\n",
        "print(\"Year:\", year)"
      ],
      "metadata": {
        "id": "E14Lb0Y0wwzL",
        "colab": {
          "base_uri": "https://localhost:8080/"
        },
        "outputId": "8327781b-9764-4d24-dc59-f435da4a3788"
      },
      "execution_count": 20,
      "outputs": [
        {
          "output_type": "stream",
          "name": "stdout",
          "text": [
            "Month: 4\n",
            "Day: 12\n",
            "Year: 2004\n"
          ]
        }
      ]
    },
    {
      "cell_type": "markdown",
      "source": [
        "## Set\n"
      ],
      "metadata": {
        "id": "pqgIEqbksah2"
      }
    },
    {
      "cell_type": "markdown",
      "source": [
        "1. The list below contains a number of a products of a computer store. Notice that there are duplicate values."
      ],
      "metadata": {
        "id": "PxFhHDRg2zXs"
      }
    },
    {
      "cell_type": "code",
      "source": [
        "products = [\"laptop\", \"smartphone\", \"tablet\", \"mouse\" ,\"powerbank\", \"headphones\", \"laptop\", \"speakers\", \"printer\", \"monitor\", \"projector\", \"mouse\", \"keyboard\"]"
      ],
      "metadata": {
        "id": "8rIbSPee5cSb"
      },
      "execution_count": null,
      "outputs": []
    },
    {
      "cell_type": "markdown",
      "source": [
        "The difference between a list and a set is that a list allows duplicate values. One way to remove duplicates is to convert a list into a set.\n",
        "\n",
        "Convert the `products` list into a set"
      ],
      "metadata": {
        "id": "vr-5xd3f2Vgn"
      }
    },
    {
      "cell_type": "code",
      "source": [
        "products = [\"laptop\", \"smartphone\", \"tablet\", \"mouse\", \"powerbank\", \"headphones\", \"laptop\", \"speakers\", \"printer\", \"monitor\", \"projector\", \"mouse\", \"keyboard\"]\n",
        "single_products = set(products)\n",
        "print(\"Products that does not have duplicates are:\", single_products)"
      ],
      "metadata": {
        "id": "Z_Ao388J2f50",
        "colab": {
          "base_uri": "https://localhost:8080/"
        },
        "outputId": "9832d8d9-c3ca-46fd-bdd5-fa202895feec"
      },
      "execution_count": 25,
      "outputs": [
        {
          "output_type": "stream",
          "name": "stdout",
          "text": [
            "Products that does not have duplicates are: {'mouse', 'powerbank', 'tablet', 'printer', 'projector', 'laptop', 'keyboard', 'headphones', 'speakers', 'smartphone', 'monitor'}\n"
          ]
        }
      ]
    },
    {
      "cell_type": "markdown",
      "source": [
        "2. Verify if \"headphones\" exists in the `products` set  using the `in` operator"
      ],
      "metadata": {
        "id": "d9fOZL4g3a9t"
      }
    },
    {
      "cell_type": "code",
      "source": [
        "products = [\"laptop\", \"smartphone\", \"tablet\", \"mouse\", \"powerbank\", \"headphones\", \"laptop\", \"speakers\", \"printer\", \"monitor\", \"projector\", \"mouse\", \"keyboard\"]\n",
        "single_products = set(products)\n",
        "if \"headphones\" in single_products:\n",
        "  print(\"Yes, 'headphones' are available in the the products set\")\n",
        "else:\n",
        "  print(\"No , 'heasphones' is not availvable in the product set\")\n",
        "print(\"Products that does not have duplicates are:\", single_products)"
      ],
      "metadata": {
        "id": "ETJJFv-u3b23",
        "colab": {
          "base_uri": "https://localhost:8080/"
        },
        "outputId": "20d99f7c-7a15-4659-f1a0-c3324f822353"
      },
      "execution_count": 26,
      "outputs": [
        {
          "output_type": "stream",
          "name": "stdout",
          "text": [
            "Yes, 'headphones' are available in the the products set\n",
            "Products that does not have duplicates are: {'mouse', 'powerbank', 'tablet', 'printer', 'projector', 'laptop', 'keyboard', 'headphones', 'speakers', 'smartphone', 'monitor'}\n"
          ]
        }
      ]
    },
    {
      "cell_type": "markdown",
      "source": [
        "## Dictionaries"
      ],
      "metadata": {
        "id": "FKj-F10WsctE"
      }
    },
    {
      "cell_type": "markdown",
      "source": [
        "1. Create a dictionary of your favorites\n",
        "\n",
        "- Keys should be the type\n",
        "- Values should be the sample from that type\n",
        "\n",
        "Example:\n",
        "\n",
        "food: friedchicken\n",
        "\n",
        "color: blue\n",
        "\n",
        "sport: badminton\n",
        "\n",
        "drink: mangojuice\n",
        "\n",
        "dessert: cheesetart\n"
      ],
      "metadata": {
        "id": "71KOC3D94P7m"
      }
    },
    {
      "cell_type": "code",
      "source": [
        "favorites = {\n",
        "    \"food\": \"Sopas\",\n",
        "    \"color\": \"Purple\",\n",
        "    \"sport\": \"Roller Skating\",\n",
        "    \"drink\": \"Dutchmill\",\n",
        "    \"dessert\": \"Ice Cream\"\n",
        "}\n",
        "\n",
        "# Print the favorites\n",
        "print(\"My Favorites are:\")\n",
        "print(\"Food:\", favorites[\"food\"])\n",
        "print(\"Color:\", favorites[\"color\"])\n",
        "print(\"Sport:\", favorites[\"sport\"])\n",
        "print(\"Drink:\", favorites[\"drink\"])\n",
        "print(\"Dessert:\", favorites[\"dessert\"])"
      ],
      "metadata": {
        "id": "8lrrq4xT3Zww",
        "colab": {
          "base_uri": "https://localhost:8080/"
        },
        "outputId": "9796b116-e16c-49be-a4cc-e309c542aef4"
      },
      "execution_count": 33,
      "outputs": [
        {
          "output_type": "stream",
          "name": "stdout",
          "text": [
            "My Favorites are:\n",
            "Food: Sopas\n",
            "Color: Purple\n",
            "Sport: Roller Skating\n",
            "Drink: Dutchmill\n",
            "Dessert: Ice Cream\n"
          ]
        }
      ]
    },
    {
      "cell_type": "markdown",
      "source": [
        "## Loops"
      ],
      "metadata": {
        "id": "cbsI1vwD1nI7"
      }
    },
    {
      "cell_type": "markdown",
      "source": [
        "1. Write a for loop to iterate all elements of the `month` list. Print each element for every iteration."
      ],
      "metadata": {
        "id": "VV429-WhDmzU"
      }
    },
    {
      "cell_type": "code",
      "source": [
        "months = [\"January\", \"February\", \"March\", \"April\", \"May\", \"June\", \"July\", \"August\", \"September\", \"October\", \"November\", \"December\"]\n",
        "for month in months:\n",
        "  print(month)"
      ],
      "metadata": {
        "id": "Ki5-XrM_DnNp",
        "colab": {
          "base_uri": "https://localhost:8080/"
        },
        "outputId": "f511401c-3ebb-48db-dd12-71a86a1f1111"
      },
      "execution_count": 34,
      "outputs": [
        {
          "output_type": "stream",
          "name": "stdout",
          "text": [
            "January\n",
            "February\n",
            "March\n",
            "April\n",
            "May\n",
            "June\n",
            "July\n",
            "August\n",
            "September\n",
            "October\n",
            "November\n",
            "December\n"
          ]
        }
      ]
    },
    {
      "cell_type": "markdown",
      "source": [
        "2. Write a for loop and add a condition to only display the elements in the `month` list that ends with \"ber\""
      ],
      "metadata": {
        "id": "XaezrcWxEEQd"
      }
    },
    {
      "cell_type": "code",
      "source": [
        "months = [\"January\", \"February\", \"March\", \"April\", \"May\", \"June\", \"July\", \"August\", \"September\", \"October\", \"November\", \"December\"]\n",
        "for month in months:\n",
        "  if month.endswith(\"ber\"):\n",
        "    print(month)"
      ],
      "metadata": {
        "id": "LR4utW6rEEm1",
        "colab": {
          "base_uri": "https://localhost:8080/"
        },
        "outputId": "0ae5e2e0-0f16-4cd8-d7b0-6a36cb39fbe3"
      },
      "execution_count": 35,
      "outputs": [
        {
          "output_type": "stream",
          "name": "stdout",
          "text": [
            "September\n",
            "October\n",
            "November\n",
            "December\n"
          ]
        }
      ]
    },
    {
      "cell_type": "markdown",
      "source": [
        "3. Write a for loop and add a condition to only display the elements in the `month` list that does not end with \"ber\""
      ],
      "metadata": {
        "id": "WcBRUEaFFHWf"
      }
    },
    {
      "cell_type": "code",
      "source": [
        "months = [\"January\", \"February\", \"March\", \"April\", \"May\", \"June\", \"July\", \"August\", \"September\", \"October\", \"November\", \"December\"]\n",
        "for month in months:\n",
        "  if not month.endswith(\"ber\"):\n",
        "    print(month)"
      ],
      "metadata": {
        "id": "Bw5D0HLNFHrs",
        "colab": {
          "base_uri": "https://localhost:8080/"
        },
        "outputId": "b1c74ba4-2a2d-4dae-9aee-614976ab4927"
      },
      "execution_count": 36,
      "outputs": [
        {
          "output_type": "stream",
          "name": "stdout",
          "text": [
            "January\n",
            "February\n",
            "March\n",
            "April\n",
            "May\n",
            "June\n",
            "July\n",
            "August\n"
          ]
        }
      ]
    },
    {
      "cell_type": "markdown",
      "source": [
        "4. Write a for loop and use `range()` to display your firstname five times"
      ],
      "metadata": {
        "id": "gpvQU9hfF0TF"
      }
    },
    {
      "cell_type": "code",
      "source": [
        "months = [\"January\", \"February\", \"March\", \"April\", \"May\", \"June\", \"July\", \"August\", \"September\", \"October\", \"November\", \"December\"]\n",
        "first_five_months = months[:5]\n",
        "print(first_five_months)"
      ],
      "metadata": {
        "id": "o-NhO5_nF0hN",
        "colab": {
          "base_uri": "https://localhost:8080/"
        },
        "outputId": "be035981-52ee-4b68-ea44-759aa222ee0f"
      },
      "execution_count": 38,
      "outputs": [
        {
          "output_type": "stream",
          "name": "stdout",
          "text": [
            "['January', 'February', 'March', 'April', 'May']\n"
          ]
        }
      ]
    },
    {
      "cell_type": "markdown",
      "source": [
        "5. Write a for loop that iterates over the names list to create a usernames list.\n",
        "\n",
        "To create a username for each name, make everything lowercase and replace spaces with underscores. Running your for loop over the list:\n",
        "\n",
        "Example:\n",
        "\n",
        "names = [\"Joey Tribbiani\", \"Monica Geller\", \"Chandler Bing\", \"Phoebe Buffay\"]\n",
        "\n",
        "should create a new list\n",
        "\n",
        "usernames = [\"joey_tribbiani\", \"monica_geller\", \"chandler_bing\", \"phoebe_buffay\"]"
      ],
      "metadata": {
        "id": "VLcFGqI9GUic"
      }
    },
    {
      "cell_type": "code",
      "source": [
        "names = [\"Joey Tribbiani\", \"Monica Geller\", \"Chandler Bing\", \"Phoebe Buffay\"]\n",
        "usernames = []\n",
        "for name in names:\n",
        "  username = name.lower().replace(\" \", \"_\")\n",
        "  usernames.append(username)\n",
        "print(usernames)"
      ],
      "metadata": {
        "id": "IqqiHcX_GUzw",
        "colab": {
          "base_uri": "https://localhost:8080/"
        },
        "outputId": "ea32452b-aafe-4e1f-a76b-d3f9bc47a491"
      },
      "execution_count": 41,
      "outputs": [
        {
          "output_type": "stream",
          "name": "stdout",
          "text": [
            "['joey_tribbiani', 'monica_geller', 'chandler_bing', 'phoebe_buffay']\n"
          ]
        }
      ]
    },
    {
      "cell_type": "markdown",
      "source": [
        "6. Write a while loop to iterate throught the `month` list\n",
        "\n",
        "- Break the loop if the element ends with \"ber\""
      ],
      "metadata": {
        "id": "6OPeRpAtI10D"
      }
    },
    {
      "cell_type": "code",
      "source": [
        "months = [\"January\", \"February\", \"March\", \"April\", \"May\", \"June\", \"July\", \"August\", \"September\", \"October\", \"November\", \"December\"]\n",
        "index = 0\n",
        "while index < len(months):\n",
        "  if months[index].endswith(\"ber\"):\n",
        "    index += 1\n",
        "    break\n",
        "  index += 1\n",
        "print(\"Index of the month ending with 'ber':\", index)"
      ],
      "metadata": {
        "id": "0sDyOhMXI2TX",
        "colab": {
          "base_uri": "https://localhost:8080/"
        },
        "outputId": "f244a0e8-175d-463b-facc-f18fb0588198"
      },
      "execution_count": 50,
      "outputs": [
        {
          "output_type": "stream",
          "name": "stdout",
          "text": [
            "Index of the month ending with 'ber': 9\n"
          ]
        }
      ]
    },
    {
      "cell_type": "markdown",
      "source": [
        "## Functions"
      ],
      "metadata": {
        "id": "-UGI_QgO1h07"
      }
    },
    {
      "cell_type": "markdown",
      "source": [
        "1. Write a python function named population_density that takes two arguments, population and land_area, and returns a population density calculated from those values.\n",
        "\n",
        "The population density can be calculated using this formula:\n",
        "\n",
        "population_density = population/land_area"
      ],
      "metadata": {
        "id": "f4bjOx-C1jar"
      }
    },
    {
      "cell_type": "code",
      "source": [
        "def population_density(population, land_area):\n",
        "    \"\"\"\n",
        "    Calculate population density.\n",
        "\n",
        "    Args:\n",
        "        population (float): Population value.\n",
        "        land_area (float): Land area value.\n",
        "\n",
        "    Returns:\n",
        "        float: Population density calculated from the provided values.\n",
        "    \"\"\"\n",
        "    population_density = population / land_area\n",
        "    return population_density\n",
        "population = float(input(\"Enter the population: \"))\n",
        "land_area = float(input(\"Enter the land area: \"))\n",
        "density = population_density(population, land_area)\n",
        "print(\"Population Density:\", density)"
      ],
      "metadata": {
        "id": "GJVkPniMLD82",
        "colab": {
          "base_uri": "https://localhost:8080/"
        },
        "outputId": "95773fd3-947a-4e7b-9d21-d41d8d5ae182"
      },
      "execution_count": 55,
      "outputs": [
        {
          "output_type": "stream",
          "name": "stdout",
          "text": [
            "Enter the population: 10000\n",
            "Enter the land area: 1000\n",
            "Population Density: 10.0\n"
          ]
        }
      ]
    },
    {
      "cell_type": "markdown",
      "source": [
        "2. Write an `averagesteps()` function to compute the average the number of steps you take every day.\n",
        "\n",
        "- The function should accept a list and compute the average of all elements inside the list\n",
        "\n",
        "- Create a list with seven elements. The values in the list are your average steps your take everyday.\n",
        "\n",
        "- Pass the list to the function and call the function"
      ],
      "metadata": {
        "id": "DEryE1965T3U"
      }
    },
    {
      "cell_type": "code",
      "source": [
        "def averagesteps(steps_list):\n",
        "    \"\"\"\n",
        "    Compute the average number of steps.\n",
        "    Args:\n",
        "        steps_list (list): List of daily steps taken.\n",
        "    Returns:\n",
        "        float: Average number of steps.\n",
        "    \"\"\"\n",
        "    total_steps = sum(steps_list)\n",
        "    average_steps = total_steps / len(steps_list)\n",
        "    return average_steps\n",
        "steps_per_day = [5000, 6000, 7000, 8000, 9000, 10000, 11000]\n",
        "average = averagesteps(steps_per_day)\n",
        "print(\"Average steps per day:\", average)"
      ],
      "metadata": {
        "id": "TzhnugYU6D-6",
        "colab": {
          "base_uri": "https://localhost:8080/"
        },
        "outputId": "6dbf92f7-10bd-4695-b5e2-459db4999269"
      },
      "execution_count": 58,
      "outputs": [
        {
          "output_type": "stream",
          "name": "stdout",
          "text": [
            "Average steps per day: 8000.0\n"
          ]
        }
      ]
    }
  ]
}